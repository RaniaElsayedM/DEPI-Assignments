{
 "cells": [
  {
   "cell_type": "code",
   "execution_count": 20,
   "metadata": {},
   "outputs": [],
   "source": [
    "import numpy as np  "
   ]
  },
  {
   "cell_type": "code",
   "execution_count": 24,
   "metadata": {},
   "outputs": [
    {
     "name": "stdout",
     "output_type": "stream",
     "text": [
      "[[11 22 33]\n",
      " [41 52 63]]\n",
      "[[10 20]\n",
      " [60 80]]\n"
     ]
    }
   ],
   "source": [
    "# 1. Broadcasting\n",
    "# a) Add a 1D array `[1, 2, 3]` to each row of a 2D array `[[10, 20, 30], [40, 50, 60]]`.\n",
    "a = np.array([1,2,3])\n",
    "b = np.array([[10, 20, 30], [40, 50, 60]])\n",
    "c = a + b\n",
    "print(c)\n",
    "\n",
    "# b) Multiply a 2D array `[[1, 2], [3, 4]]` by a 1D array `[10, 20]` column-wise\n",
    "x = np.array([[1,2] ,\n",
    "               [3,4]])\n",
    "y = np.array([[10,20]]).reshape(2,1)\n",
    "z = x * y\n",
    "print(z)"
   ]
  },
  {
   "cell_type": "code",
   "execution_count": 26,
   "metadata": {},
   "outputs": [
    {
     "name": "stdout",
     "output_type": "stream",
     "text": [
      "[[[ 1  2  3  4]\n",
      "  [ 5  6  7  8]\n",
      "  [ 9 10 11 12]]\n",
      "\n",
      " [[13 14 15 16]\n",
      "  [17 18 19 20]\n",
      "  [21 22 23 24]]]\n"
     ]
    }
   ],
   "source": [
    "# 2. Indexing and Slicing (High Dimensional Arrays)\n",
    "arr = np.arange(1, 25).reshape(2, 3, 4)\n",
    "print(arr)"
   ]
  },
  {
   "cell_type": "code",
   "execution_count": 27,
   "metadata": {},
   "outputs": [
    {
     "name": "stdout",
     "output_type": "stream",
     "text": [
      "[[13 14 15 16]\n",
      " [17 18 19 20]\n",
      " [21 22 23 24]]\n"
     ]
    }
   ],
   "source": [
    "# a) Extract the second slice along axis 0.\n",
    "print(arr[1 , : ,:])"
   ]
  },
  {
   "cell_type": "code",
   "execution_count": 15,
   "metadata": {},
   "outputs": [
    {
     "name": "stdout",
     "output_type": "stream",
     "text": [
      "[[ 4  8 12]\n",
      " [16 20 24]]\n"
     ]
    }
   ],
   "source": [
    "# b) Extract all rows and the last column for all slices.\n",
    "print(arr[: , : , -1 ])"
   ]
  },
  {
   "cell_type": "code",
   "execution_count": 29,
   "metadata": {},
   "outputs": [
    {
     "name": "stdout",
     "output_type": "stream",
     "text": [
      "[[[13 14 15 16]\n",
      "  [17 18 19 20]\n",
      "  [21 22 23 24]]\n",
      "\n",
      " [[ 1  2  3  4]\n",
      "  [ 5  6  7  8]\n",
      "  [ 9 10 11 12]]]\n"
     ]
    }
   ],
   "source": [
    "# c) Reverse the order of slices along axis 0.\n",
    "print(arr[::-1 , : , :])\n"
   ]
  },
  {
   "cell_type": "code",
   "execution_count": 30,
   "metadata": {},
   "outputs": [
    {
     "name": "stdout",
     "output_type": "stream",
     "text": [
      "[[[ 1 -1  3 -1]\n",
      "  [ 5 -1  7 -1]\n",
      "  [ 9 -1 11 -1]]\n",
      "\n",
      " [[13 -1 15 -1]\n",
      "  [17 -1 19 -1]\n",
      "  [21 -1 23 -1]]]\n"
     ]
    }
   ],
   "source": [
    "# d) Set all even elements in the array to -1.\n",
    "arr[arr % 2 == 0] = -1\n",
    "print(arr)"
   ]
  },
  {
   "cell_type": "code",
   "execution_count": 32,
   "metadata": {},
   "outputs": [
    {
     "name": "stdout",
     "output_type": "stream",
     "text": [
      "[1 1 3 3 5 5]\n",
      "[1 2 2 3 3 3 4 4 4 4 5 5 5 5 5 6 6 6 6 6 6]\n"
     ]
    }
   ],
   "source": [
    "# 3. np.repeat\n",
    "# a) Given `arr = np.array([1, 2, 3, 4, 5, 6])`, create a new array where every odd element is repeated twice.\n",
    "\n",
    "arr = np.array([1, 2, 3, 4, 5, 6])\n",
    "newArr = np.repeat(arr[arr % 2 == 1], 2)\n",
    "print(newArr)\n",
    "\n",
    "\n",
    "# b) Given `arr = np.array([1, 2, 3, 4, 5, 6])`, create a new array where elements are repeated based on their value.\n",
    "\n",
    "a = np.array([1, 2, 3, 4, 5, 6])\n",
    "newArr2 = np.repeat(a , a)\n",
    "print(newArr2)  \n"
   ]
  },
  {
   "cell_type": "code",
   "execution_count": 33,
   "metadata": {},
   "outputs": [
    {
     "name": "stdout",
     "output_type": "stream",
     "text": [
      "[0.  0.5 1. ]\n"
     ]
    }
   ],
   "source": [
    "# 4. Normalizing\n",
    "# a) Normalize a 1D array `arr = np.array([10, 20, 30])` to have values between 0 and 1.\n",
    "\n",
    "arr = np.array([10, 20, 30])\n",
    "\n",
    "normalizedArr = (arr - np.min(arr)) / (np.max(arr) - np.min(arr))\n",
    "\n",
    "print(normalizedArr)"
   ]
  },
  {
   "cell_type": "code",
   "execution_count": 34,
   "metadata": {},
   "outputs": [
    {
     "name": "stdout",
     "output_type": "stream",
     "text": [
      "[[0 0 0]\n",
      " [0 1 2]\n",
      " [0 2 4]]\n"
     ]
    }
   ],
   "source": [
    "# 5. Bonus Challenge\n",
    "# a) Create a 3x3 matrix where each element at position (i, j) is i * j.\n",
    "\n",
    "i = np.arange(3).reshape(3, 1)  \n",
    "j = np.arange(3)              \n",
    "matrix = i * j                  \n",
    "print(matrix)"
   ]
  },
  {
   "cell_type": "code",
   "execution_count": 35,
   "metadata": {},
   "outputs": [
    {
     "name": "stdout",
     "output_type": "stream",
     "text": [
      "[[ 0  1  2  3]\n",
      " [ 4  0  6  7]\n",
      " [ 8  9  0 11]\n",
      " [12 13 14  0]]\n"
     ]
    }
   ],
   "source": [
    "# b) Given a 4x4 matrix, replace all elements on the main diagonal with 0 without using a loop.\n",
    "arr = np.arange(16).reshape(4,4)\n",
    "np.fill_diagonal(arr, 0)\n",
    "print(arr)\n"
   ]
  }
 ],
 "metadata": {
  "kernelspec": {
   "display_name": "base",
   "language": "python",
   "name": "python3"
  },
  "language_info": {
   "codemirror_mode": {
    "name": "ipython",
    "version": 3
   },
   "file_extension": ".py",
   "mimetype": "text/x-python",
   "name": "python",
   "nbconvert_exporter": "python",
   "pygments_lexer": "ipython3",
   "version": "3.12.7"
  }
 },
 "nbformat": 4,
 "nbformat_minor": 2
}
